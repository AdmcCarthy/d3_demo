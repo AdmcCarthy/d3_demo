{
 "cells": [
  {
   "cell_type": "code",
   "execution_count": 5,
   "metadata": {},
   "outputs": [
    {
     "ename": "ImportError",
     "evalue": "No module named 'seaborn'",
     "output_type": "error",
     "traceback": [
      "\u001b[1;31m---------------------------------------------------------------------------\u001b[0m",
      "\u001b[1;31mImportError\u001b[0m                               Traceback (most recent call last)",
      "\u001b[1;32m<ipython-input-5-0046eeb9b3e1>\u001b[0m in \u001b[0;36m<module>\u001b[1;34m()\u001b[0m\n\u001b[0;32m      1\u001b[0m \u001b[1;32mimport\u001b[0m \u001b[0mpandas\u001b[0m \u001b[1;32mas\u001b[0m \u001b[0mpd\u001b[0m\u001b[1;33m\u001b[0m\u001b[0m\n\u001b[0;32m      2\u001b[0m \u001b[1;32mimport\u001b[0m \u001b[0mnumpy\u001b[0m \u001b[1;32mas\u001b[0m \u001b[0mnp\u001b[0m\u001b[1;33m\u001b[0m\u001b[0m\n\u001b[1;32m----> 3\u001b[1;33m \u001b[1;32mimport\u001b[0m \u001b[0mseaborn\u001b[0m \u001b[1;32mas\u001b[0m \u001b[0msns\u001b[0m\u001b[1;33m\u001b[0m\u001b[0m\n\u001b[0m",
      "\u001b[1;31mImportError\u001b[0m: No module named 'seaborn'"
     ]
    }
   ],
   "source": [
    "import pandas as pd\n",
    "import numpy as np"
   ]
  },
  {
   "cell_type": "code",
   "execution_count": 6,
   "metadata": {},
   "outputs": [
    {
     "name": "stderr",
     "output_type": "stream",
     "text": [
      "C:\\Users\\Adam\\Anaconda3\\lib\\site-packages\\ipykernel\\__main__.py:1: ParserWarning: Falling back to the 'python' engine because the 'c' engine does not support sep=None with delim_whitespace=False; you can avoid this warning by specifying engine='python'.\n",
      "  if __name__ == '__main__':\n"
     ]
    },
    {
     "data": {
      "text/html": [
       "<div>\n",
       "<style>\n",
       "    .dataframe thead tr:only-child th {\n",
       "        text-align: right;\n",
       "    }\n",
       "\n",
       "    .dataframe thead th {\n",
       "        text-align: left;\n",
       "    }\n",
       "\n",
       "    .dataframe tbody tr th {\n",
       "        vertical-align: top;\n",
       "    }\n",
       "</style>\n",
       "<table border=\"1\" class=\"dataframe\">\n",
       "  <thead>\n",
       "    <tr style=\"text-align: right;\">\n",
       "      <th></th>\n",
       "      <th>ï»¿\"prfYear\"</th>\n",
       "      <th>prfPrdOilNetMillSm3</th>\n",
       "      <th>prfPrdGasNetBillSm3</th>\n",
       "      <th>prfPrdCondensateNetMillSm3</th>\n",
       "      <th>prfPrdNGLNetMillSm3</th>\n",
       "      <th>prfPrdOeNetMillSm3</th>\n",
       "      <th>prfPrdProducedWaterInFieldMillSm3</th>\n",
       "    </tr>\n",
       "  </thead>\n",
       "  <tbody>\n",
       "    <tr>\n",
       "      <th>0</th>\n",
       "      <td>2017</td>\n",
       "      <td>31.993</td>\n",
       "      <td>43.087</td>\n",
       "      <td>7.180</td>\n",
       "      <td>0.669</td>\n",
       "      <td>82.929</td>\n",
       "      <td>59.268</td>\n",
       "    </tr>\n",
       "    <tr>\n",
       "      <th>1</th>\n",
       "      <td>2016</td>\n",
       "      <td>94.009</td>\n",
       "      <td>116.649</td>\n",
       "      <td>20.176</td>\n",
       "      <td>1.879</td>\n",
       "      <td>232.713</td>\n",
       "      <td>176.453</td>\n",
       "    </tr>\n",
       "    <tr>\n",
       "      <th>2</th>\n",
       "      <td>2015</td>\n",
       "      <td>90.965</td>\n",
       "      <td>117.152</td>\n",
       "      <td>19.601</td>\n",
       "      <td>2.468</td>\n",
       "      <td>230.187</td>\n",
       "      <td>184.518</td>\n",
       "    </tr>\n",
       "    <tr>\n",
       "      <th>3</th>\n",
       "      <td>2014</td>\n",
       "      <td>87.741</td>\n",
       "      <td>108.820</td>\n",
       "      <td>18.949</td>\n",
       "      <td>2.913</td>\n",
       "      <td>218.423</td>\n",
       "      <td>172.475</td>\n",
       "    </tr>\n",
       "    <tr>\n",
       "      <th>4</th>\n",
       "      <td>2013</td>\n",
       "      <td>84.939</td>\n",
       "      <td>108.746</td>\n",
       "      <td>17.718</td>\n",
       "      <td>3.991</td>\n",
       "      <td>215.394</td>\n",
       "      <td>156.410</td>\n",
       "    </tr>\n",
       "  </tbody>\n",
       "</table>\n",
       "</div>"
      ],
      "text/plain": [
       "   ï»¿\"prfYear\"  prfPrdOilNetMillSm3  prfPrdGasNetBillSm3  \\\n",
       "0          2017               31.993               43.087   \n",
       "1          2016               94.009              116.649   \n",
       "2          2015               90.965              117.152   \n",
       "3          2014               87.741              108.820   \n",
       "4          2013               84.939              108.746   \n",
       "\n",
       "   prfPrdCondensateNetMillSm3  prfPrdNGLNetMillSm3  prfPrdOeNetMillSm3  \\\n",
       "0                       7.180                0.669              82.929   \n",
       "1                      20.176                1.879             232.713   \n",
       "2                      19.601                2.468             230.187   \n",
       "3                      18.949                2.913             218.423   \n",
       "4                      17.718                3.991             215.394   \n",
       "\n",
       "   prfPrdProducedWaterInFieldMillSm3  \n",
       "0                             59.268  \n",
       "1                            176.453  \n",
       "2                            184.518  \n",
       "3                            172.475  \n",
       "4                            156.410  "
      ]
     },
     "execution_count": 6,
     "metadata": {},
     "output_type": "execute_result"
    }
   ],
   "source": [
    "df = pd.read_csv(\"production-yearly-total.csv\", sep=None)\n",
    "df.head()"
   ]
  },
  {
   "cell_type": "code",
   "execution_count": 9,
   "metadata": {},
   "outputs": [
    {
     "data": {
      "text/html": [
       "<div>\n",
       "<style>\n",
       "    .dataframe thead tr:only-child th {\n",
       "        text-align: right;\n",
       "    }\n",
       "\n",
       "    .dataframe thead th {\n",
       "        text-align: left;\n",
       "    }\n",
       "\n",
       "    .dataframe tbody tr th {\n",
       "        vertical-align: top;\n",
       "    }\n",
       "</style>\n",
       "<table border=\"1\" class=\"dataframe\">\n",
       "  <thead>\n",
       "    <tr style=\"text-align: right;\">\n",
       "      <th></th>\n",
       "      <th>ï»¿\"prfYear\"</th>\n",
       "      <th>prfPrdOilNetMillSm3</th>\n",
       "      <th>prfPrdGasNetBillSm3</th>\n",
       "      <th>prfPrdCondensateNetMillSm3</th>\n",
       "      <th>prfPrdNGLNetMillSm3</th>\n",
       "      <th>prfPrdOeNetMillSm3</th>\n",
       "      <th>prfPrdProducedWaterInFieldMillSm3</th>\n",
       "    </tr>\n",
       "  </thead>\n",
       "  <tbody>\n",
       "    <tr>\n",
       "      <th>0</th>\n",
       "      <td>2017</td>\n",
       "      <td>32</td>\n",
       "      <td>43</td>\n",
       "      <td>7</td>\n",
       "      <td>1</td>\n",
       "      <td>83</td>\n",
       "      <td>59</td>\n",
       "    </tr>\n",
       "    <tr>\n",
       "      <th>1</th>\n",
       "      <td>2016</td>\n",
       "      <td>94</td>\n",
       "      <td>117</td>\n",
       "      <td>20</td>\n",
       "      <td>2</td>\n",
       "      <td>233</td>\n",
       "      <td>176</td>\n",
       "    </tr>\n",
       "    <tr>\n",
       "      <th>2</th>\n",
       "      <td>2015</td>\n",
       "      <td>91</td>\n",
       "      <td>117</td>\n",
       "      <td>20</td>\n",
       "      <td>2</td>\n",
       "      <td>230</td>\n",
       "      <td>185</td>\n",
       "    </tr>\n",
       "    <tr>\n",
       "      <th>3</th>\n",
       "      <td>2014</td>\n",
       "      <td>88</td>\n",
       "      <td>109</td>\n",
       "      <td>19</td>\n",
       "      <td>3</td>\n",
       "      <td>218</td>\n",
       "      <td>172</td>\n",
       "    </tr>\n",
       "    <tr>\n",
       "      <th>4</th>\n",
       "      <td>2013</td>\n",
       "      <td>85</td>\n",
       "      <td>109</td>\n",
       "      <td>18</td>\n",
       "      <td>4</td>\n",
       "      <td>215</td>\n",
       "      <td>156</td>\n",
       "    </tr>\n",
       "  </tbody>\n",
       "</table>\n",
       "</div>"
      ],
      "text/plain": [
       "  ï»¿\"prfYear\" prfPrdOilNetMillSm3 prfPrdGasNetBillSm3  \\\n",
       "0         2017                  32                  43   \n",
       "1         2016                  94                 117   \n",
       "2         2015                  91                 117   \n",
       "3         2014                  88                 109   \n",
       "4         2013                  85                 109   \n",
       "\n",
       "  prfPrdCondensateNetMillSm3 prfPrdNGLNetMillSm3 prfPrdOeNetMillSm3  \\\n",
       "0                          7                   1                 83   \n",
       "1                         20                   2                233   \n",
       "2                         20                   2                230   \n",
       "3                         19                   3                218   \n",
       "4                         18                   4                215   \n",
       "\n",
       "  prfPrdProducedWaterInFieldMillSm3  \n",
       "0                                59  \n",
       "1                               176  \n",
       "2                               185  \n",
       "3                               172  \n",
       "4                               156  "
      ]
     },
     "execution_count": 9,
     "metadata": {},
     "output_type": "execute_result"
    }
   ],
   "source": [
    "df2 = df.applymap(lambda x: '%.0f' % x)\n",
    "df2.head()"
   ]
  },
  {
   "cell_type": "code",
   "execution_count": 10,
   "metadata": {
    "collapsed": true
   },
   "outputs": [],
   "source": [
    "df.to_csv(\"production-yearl-total2.csv\", sep=\"\\t\", quoting=csv.QUOTE_NONE))\n",
    "df2.to_csv(\"production-yearl-total3.csv\",  sep=\"\\t\", quoting=csv.QUOTE_NONE))"
   ]
  },
  {
   "cell_type": "code",
   "execution_count": null,
   "metadata": {
    "collapsed": true
   },
   "outputs": [],
   "source": []
  }
 ],
 "metadata": {
  "anaconda-cloud": {},
  "kernelspec": {
   "display_name": "Python [conda root]",
   "language": "python",
   "name": "conda-root-py"
  },
  "language_info": {
   "codemirror_mode": {
    "name": "ipython",
    "version": 3
   },
   "file_extension": ".py",
   "mimetype": "text/x-python",
   "name": "python",
   "nbconvert_exporter": "python",
   "pygments_lexer": "ipython3",
   "version": "3.5.3"
  }
 },
 "nbformat": 4,
 "nbformat_minor": 2
}
